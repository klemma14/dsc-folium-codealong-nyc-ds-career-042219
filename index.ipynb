{
 "cells": [
  {
   "cell_type": "markdown",
   "metadata": {},
   "source": [
    "# Folium - Codealong\n",
    "\n",
    "## Introduction \n",
    "\n",
    "In this codealong, we'll take a look at how to create an interactive map using the Folium package. From there, we'll return to APIs in the final lab for the day where you'll make an interactive map from your requests to the API!\n",
    "\n",
    "## Objectives\n",
    "\n",
    "You will be able to: \n",
    "* Create maps with Folium"
   ]
  },
  {
   "cell_type": "markdown",
   "metadata": {},
   "source": [
    "## Creating a Basemap\n",
    "\n",
    "Here we'll take a look at creating a basemap over the London region!"
   ]
  },
  {
   "cell_type": "code",
   "execution_count": 1,
   "metadata": {
    "scrolled": false
   },
   "outputs": [
    {
     "data": {
      "text/html": [
       "<div style=\"width:100%;\"><div style=\"position:relative;width:100%;height:0;padding-bottom:60%;\"><iframe src=\"data:text/html;charset=utf-8;base64,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\" style=\"position:absolute;width:100%;height:100%;left:0;top:0;border:none !important;\" allowfullscreen webkitallowfullscreen mozallowfullscreen></iframe></div></div>"
      ],
      "text/plain": [
       "<folium.folium.Map at 0x7fe6ab7fdcc0>"
      ]
     },
     "execution_count": 1,
     "metadata": {},
     "output_type": "execute_result"
    }
   ],
   "source": [
    "import folium\n",
    "\n",
    "lat = 51.51\n",
    "long = -0.14\n",
    "\n",
    "#Create a map of the area\n",
    "base_map = folium.Map([lat, long], zoom_start=13)\n",
    "base_map"
   ]
  },
  {
   "cell_type": "markdown",
   "metadata": {},
   "source": [
    "## Adding Markers to the Map\n",
    "\n",
    "Great! Now let's take a look at adding little markers to our map!\n",
    "\n",
    "**Note:** you may have to zoom out to see all of the markers!"
   ]
  },
  {
   "cell_type": "code",
   "execution_count": 2,
   "metadata": {},
   "outputs": [
    {
     "data": {
      "text/html": [
       "<div style=\"width:100%;\"><div style=\"position:relative;width:100%;height:0;padding-bottom:60%;\"><iframe src=\"data:text/html;charset=utf-8;base64,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\" style=\"position:absolute;width:100%;height:100%;left:0;top:0;border:none !important;\" allowfullscreen webkitallowfullscreen mozallowfullscreen></iframe></div></div>"
      ],
      "text/plain": [
       "<folium.folium.Map at 0x7fc6ac57bcf8>"
      ]
     },
     "execution_count": 2,
     "metadata": {},
     "output_type": "execute_result"
    }
   ],
   "source": [
    "import numpy as np\n",
    "\n",
    "#Generate some random locations to add to our map\n",
    "x = [lat + np.random.uniform(-.1,.1) for i in range(20)]\n",
    "y = [long + np.random.uniform(-.1,.1) for i in range(20)]\n",
    "points = list(zip(x, y))\n",
    "for p in points:\n",
    "    lat = p[0]\n",
    "    long = p[1]\n",
    "    marker = folium.Marker(location=[lat, long])\n",
    "    marker.add_to(base_map)\n",
    "base_map"
   ]
  },
  {
   "cell_type": "markdown",
   "metadata": {},
   "source": [
    "## Adding Pop-up Boxes to Our Markers\n",
    "\n",
    "Often we may wish to not only place markers on the map, but to create interactive pop-ups which display information to that location. To do this, we can add a popup to our markers when adding them to the map! "
   ]
  },
  {
   "cell_type": "code",
   "execution_count": null,
   "metadata": {},
   "outputs": [],
   "source": [
    "for p in points:\n",
    "    lat = p[0]\n",
    "    long = p[1]\n",
    "    popup_text = \"Latitude: {}, Longitude: {}\".format(lat,long)\n",
    "    popup = folium.Popup(popup_text, parse_html=True)\n",
    "    marker = folium.Marker(location=[lat, long], popup=popup)\n",
    "    marker.add_to(base_map)\n",
    "base_map"
   ]
  },
  {
   "cell_type": "markdown",
   "metadata": {},
   "source": [
    "Now, if you click on the map markers, you should see a little information box pop up!\n",
    "\n",
    "## Summary \n",
    "\n",
    "In this codealong, we learned how to use Folium to create some cool interactive maps with only a few lines of python code! In the next lab, you'll synthesize your skills for the day together and create an interactive visualization map for data you retrieve from the Yelp API!"
   ]
  }
 ],
 "metadata": {
  "kernelspec": {
   "display_name": "Python 3",
   "language": "python",
   "name": "python3"
  },
  "language_info": {
   "codemirror_mode": {
    "name": "ipython",
    "version": 3
   },
   "file_extension": ".py",
   "mimetype": "text/x-python",
   "name": "python",
   "nbconvert_exporter": "python",
   "pygments_lexer": "ipython3",
   "version": "3.6.6"
  }
 },
 "nbformat": 4,
 "nbformat_minor": 2
}
